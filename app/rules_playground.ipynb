{
 "cells": [
  {
   "cell_type": "code",
   "id": "initial_id",
   "metadata": {
    "collapsed": true,
    "ExecuteTime": {
     "end_time": "2025-08-24T20:45:04.358504Z",
     "start_time": "2025-08-24T20:45:04.354118Z"
    }
   },
   "source": [
    "# https://github.com/gorules/zen/blob/master/bindings/python/README.md\n",
    "import zen\n",
    "\n",
    "# Example filesystem content, it is up to you how you obtain content\n",
    "with open(\"src/rules/fire-risk.json\", \"r\") as f:\n",
    "    content = f.read()\n",
    "\n",
    "engine = zen.ZenEngine()\n",
    "\n",
    "decision = engine.create_decision(content)\n",
    "result = decision.evaluate({\"risk_type\": \"attic\", \"attic_vent_screens\": True})\n",
    "result"
   ],
   "outputs": [
    {
     "data": {
      "text/plain": [
       "{'performance': '37.9µs',\n",
       " 'result': {'attic_vent_screens': True,\n",
       "  'mitigations': 'Add Vents',\n",
       "  'risk_type': 'attic'}}"
      ]
     },
     "execution_count": 17,
     "metadata": {},
     "output_type": "execute_result"
    }
   ],
   "execution_count": 17
  },
  {
   "metadata": {
    "ExecuteTime": {
     "end_time": "2025-08-24T20:45:21.024938Z",
     "start_time": "2025-08-24T20:45:21.021165Z"
    }
   },
   "cell_type": "code",
   "source": [
    "result = decision.evaluate({\n",
    "    \"risk_type\": \"windows\",\n",
    "    \"window_type\": \"tempered\",\n",
    "    \"vegetation_type\": \"tree\",\n",
    "    \"distance\": 15\n",
    "})\n",
    "result"
   ],
   "id": "e89de138440f9160",
   "outputs": [
    {
     "data": {
      "text/plain": [
       "{'performance': '75.0µs',\n",
       " 'result': {'calc_safe_distance': 15,\n",
       "  'distance': 15,\n",
       "  'mitigations': {'Bridge': ['Apply a Film to windows which decreases minimum safe distance by 20%',\n",
       "    'Apply flame retardants to shrubs that decrease minimum safe distance by 25%',\n",
       "    'Prune trees to a safe height decreases safe distance by 50%'],\n",
       "   'Full': ['Remove Vegetation', 'Replace window with Tempered Glass']},\n",
       "  'risk_type': 'windows',\n",
       "  'safe_distance': 30,\n",
       "  'vegetation_type': 'tree',\n",
       "  'window_type': 'tempered'}}"
      ]
     },
     "execution_count": 20,
     "metadata": {},
     "output_type": "execute_result"
    }
   ],
   "execution_count": 20
  },
  {
   "metadata": {},
   "cell_type": "code",
   "outputs": [],
   "execution_count": null,
   "source": "",
   "id": "9f0a27546eb3a02"
  }
 ],
 "metadata": {
  "kernelspec": {
   "display_name": "Python 3",
   "language": "python",
   "name": "python3"
  },
  "language_info": {
   "codemirror_mode": {
    "name": "ipython",
    "version": 2
   },
   "file_extension": ".py",
   "mimetype": "text/x-python",
   "name": "python",
   "nbconvert_exporter": "python",
   "pygments_lexer": "ipython2",
   "version": "2.7.6"
  }
 },
 "nbformat": 4,
 "nbformat_minor": 5
}
