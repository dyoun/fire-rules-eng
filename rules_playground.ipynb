{
 "cells": [
  {
   "cell_type": "code",
   "id": "initial_id",
   "metadata": {
    "collapsed": true,
    "ExecuteTime": {
     "end_time": "2025-08-26T16:27:10.036668Z",
     "start_time": "2025-08-26T16:27:10.028128Z"
    }
   },
   "source": [
    "# https://github.com/gorules/zen/blob/master/bindings/python/README.md\n",
    "import zen\n",
    "\n",
    "with open(\"src/rules/fire_risk/latest/fire_risk.json\", \"r\") as f:\n",
    "    content = f.read()\n",
    "\n",
    "engine = zen.ZenEngine()\n",
    "\n",
    "decision = engine.create_decision(content)\n",
    "result = decision.evaluate({\"risk_type\": \"attic\", \"attic_vent_screens\": False})\n",
    "result"
   ],
   "outputs": [
    {
     "data": {
      "text/plain": [
       "{'performance': '692.6µs',\n",
       " 'result': {'attic_vent_screens': False,\n",
       "  'mitigations': 'Add Vents',\n",
       "  'risk_type': 'attic'}}"
      ]
     },
     "execution_count": 2,
     "metadata": {},
     "output_type": "execute_result"
    }
   ],
   "execution_count": 2
  },
  {
   "metadata": {
    "ExecuteTime": {
     "end_time": "2025-08-26T16:27:12.474823Z",
     "start_time": "2025-08-26T16:27:12.471374Z"
    }
   },
   "cell_type": "code",
   "source": [
    "result = decision.evaluate({\n",
    "    \"risk_type\": \"windows\",\n",
    "    \"window_type\": \"tempered\",\n",
    "    \"vegetation_type\": \"tree\",\n",
    "    \"distance\": 15\n",
    "})\n",
    "result"
   ],
   "id": "e89de138440f9160",
   "outputs": [
    {
     "data": {
      "text/plain": [
       "{'performance': '93.0µs',\n",
       " 'result': {'distance': 15,\n",
       "  'mitigations': {'bridge': ['Apply a Film to windows which decreases minimum safe distance by 20%',\n",
       "    'Apply flame retardants to shrubs that decrease minimum safe distance by 25%',\n",
       "    'Prune trees to a safe height decreases safe distance by 50%'],\n",
       "   'full': ['Remove Vegetation', 'Replace window with Tempered Glass']},\n",
       "  'risk_type': 'windows',\n",
       "  'safe_distance': 30,\n",
       "  'safe_distance_calc': 30,\n",
       "  'safe_distance_diff': 15,\n",
       "  'vegetation_type': 'tree',\n",
       "  'window_type': 'tempered'}}"
      ]
     },
     "execution_count": 3,
     "metadata": {},
     "output_type": "execute_result"
    }
   ],
   "execution_count": 3
  },
  {
   "metadata": {},
   "cell_type": "code",
   "outputs": [],
   "execution_count": null,
   "source": "",
   "id": "9f0a27546eb3a02"
  }
 ],
 "metadata": {
  "kernelspec": {
   "display_name": "Python 3",
   "language": "python",
   "name": "python3"
  },
  "language_info": {
   "codemirror_mode": {
    "name": "ipython",
    "version": 2
   },
   "file_extension": ".py",
   "mimetype": "text/x-python",
   "name": "python",
   "nbconvert_exporter": "python",
   "pygments_lexer": "ipython2",
   "version": "2.7.6"
  }
 },
 "nbformat": 4,
 "nbformat_minor": 5
}
